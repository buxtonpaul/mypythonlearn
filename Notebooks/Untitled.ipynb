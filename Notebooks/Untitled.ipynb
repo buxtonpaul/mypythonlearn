{
 "cells": [
  {
   "cell_type": "code",
   "execution_count": 8,
   "metadata": {
    "collapsed": false
   },
   "outputs": [],
   "source": [
    "import random\n",
    "\n",
    "#dir(random)\n",
    "# example of getting help\n",
    "?random.randint()\n",
    "#?random.Random()"
   ]
  },
  {
   "cell_type": "code",
   "execution_count": 1,
   "metadata": {
    "collapsed": false
   },
   "outputs": [
    {
     "name": "stdout",
     "output_type": "stream",
     "text": [
      "Enter password: ········\n",
      "Verify password: ········\n"
     ]
    },
    {
     "data": {
      "text/plain": [
       "'sha1:ebc73ab60c27:14c585cc2c693a85bce20cc9c311f4bd1797d611'"
      ]
     },
     "execution_count": 1,
     "metadata": {},
     "output_type": "execute_result"
    }
   ],
   "source": [
    "from IPython.lib import passwd\n",
    "passwd()\n"
   ]
  },
  {
   "cell_type": "code",
   "execution_count": 19,
   "metadata": {
    "collapsed": false
   },
   "outputs": [
    {
     "name": "stdout",
     "output_type": "stream",
     "text": [
      "2016-10-09 07:04:05.7400269Z\n",
      "2016-10-09 07:04:05.7400269\n",
      "2016-10-09 07:04:05\n",
      "2016-10-09 07:04:05\n",
      "2016-10-09 07:04:05\n",
      "2016-10-09 07:04:05\n"
     ]
    }
   ],
   "source": [
    "import datetime as mod_datetime\n",
    "\n",
    "DATE_FORMATS = [\n",
    "    '%Y-%m-%d %H:%M:%S',\n",
    "    '%Y-%m-%d %H:%M:%S.%f',\n",
    "    #'%Y-%m-%d %H:%M:%S%z',\n",
    "    #'%Y-%m-%d %H:%M:%S.%f%z',\n",
    "]\n",
    "\n",
    "\n",
    "def parse_time(string):\n",
    "    if not string:\n",
    "        return None\n",
    "    if 'T' in string:\n",
    "        string = string.replace('T', ' ')\n",
    "        print string\n",
    "    if 'Z' in string:\n",
    "        string = string.replace('Z', '')\n",
    "        print string\n",
    "    if '.' in string:\n",
    "        string = string.split('.')[0]\n",
    "        print string\n",
    "    for date_format in DATE_FORMATS:\n",
    "        try:\n",
    "            return mod_datetime.datetime.strptime(string, date_format)\n",
    "        except ValueError:\n",
    "            pass\n",
    "\n",
    "        \n",
    "a=parse_time(\"2016-10-09T07:04:05.7400269Z\")\n",
    "b=parse_time(\"2016-10-09T07:04:05\")\n",
    "\n",
    "print a\n",
    "print b\n",
    "\n",
    "\n"
   ]
  }
 ],
 "metadata": {
  "anaconda-cloud": {},
  "kernelspec": {
   "display_name": "Python [default]",
   "language": "python",
   "name": "python2"
  },
  "language_info": {
   "codemirror_mode": {
    "name": "ipython",
    "version": 2
   },
   "file_extension": ".py",
   "mimetype": "text/x-python",
   "name": "python",
   "nbconvert_exporter": "python",
   "pygments_lexer": "ipython2",
   "version": "2.7.12"
  }
 },
 "nbformat": 4,
 "nbformat_minor": 0
}
