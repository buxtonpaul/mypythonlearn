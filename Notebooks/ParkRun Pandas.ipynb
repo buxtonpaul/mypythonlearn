{
 "cells": [
  {
   "cell_type": "code",
   "execution_count": 2,
   "metadata": {
    "collapsed": false
   },
   "outputs": [
    {
     "data": {
      "text/plain": [
       "[                Event    Run Date  Gender Pos  Overall Position   Time  \\\n",
       " 0  Gadebridge parkrun  21/01/2017          23                24  25:19   \n",
       " 1  Gadebridge parkrun  05/11/2016          35                41  25:41   \n",
       " 2  Gadebridge parkrun  29/10/2016          36                44  26:20   \n",
       " 3   St Albans parkrun  20/08/2016         110               123  24:33   \n",
       " 4  Gadebridge parkrun  06/08/2016          38                42  26:23   \n",
       " 5  Gadebridge parkrun  23/07/2016          27                33  27:31   \n",
       " 6  Gadebridge parkrun  02/07/2016          45                49  27:18   \n",
       " 7  Gadebridge parkrun  25/06/2016          39                48  28:55   \n",
       " 8  Gadebridge parkrun  04/06/2016          43                53  28:53   \n",
       " 9  Gadebridge parkrun  28/05/2016          54                68  28:53   \n",
       " \n",
       "   Age Grade  \n",
       " 0    53.92%  \n",
       " 1    53.15%  \n",
       " 2    51.84%  \n",
       " 3    55.60%  \n",
       " 4    51.74%  \n",
       " 5    49.61%  \n",
       " 6    50.00%  \n",
       " 7    47.20%  \n",
       " 8    46.91%  \n",
       " 9    46.91%  ,\n",
       "                 Event  Runs  Best Gender Position  Best Position Overall  \\\n",
       " 0  Gadebridge parkrun    11                    23                     24   \n",
       " 1   St Albans parkrun     1                   110                    123   \n",
       " 2                        12                    23                     24   \n",
       " \n",
       "   Unnamed: 4                                                      .1  \n",
       " 0   00:25:19  All                                                NaN  \n",
       " 1   00:24:33  All                                                NaN  \n",
       " 2   00:24:33  All  \\n\\t\\t\\t\\t\\t\\t\\t\\t \\n                              ,\n",
       "    Year           Role  Number of Times\n",
       " 0  2017        Marshal                1\n",
       " 1  2016  Finish Tokens                1\n",
       " 2  2016        Marshal                2,\n",
       "                                                    0   1  \\\n",
       " 0                           Number of events: 78,565 NaN   \n",
       " 1                           Number of locations: 442 NaN   \n",
       " 2                      Average runs per event: 176.1 NaN   \n",
       " 3                         Average run time: 00:27:53 NaN   \n",
       " 4  Female record holder: Hannah WALKER - 15:55 - ... NaN   \n",
       " 5  Male record holder: Andrew BADDELEY - 13:48 - ... NaN   \n",
       " 6  Age graded record holder: Fauja SINGH - 179.04... NaN   \n",
       " \n",
       "                                                    2   3  \\\n",
       " 0                       Number of runners: 1,192,266 NaN   \n",
       " 1                             Number of clubs: 4,184 NaN   \n",
       " 2            Average number of runs per runner: 11.6 NaN   \n",
       " 3  Total hours run: 734Years 73Days 17Hrs 2Min 56... NaN   \n",
       " 4                                                NaN NaN   \n",
       " 5                                                NaN NaN   \n",
       " 6                                                NaN NaN   \n",
       " \n",
       "                                   4  \n",
       " 0        Number of runs: 13,834,705  \n",
       " 1          Number of PBs: 2,640,722  \n",
       " 2                               NaN  \n",
       " 3  Total distance run: 69,173,525km  \n",
       " 4                               NaN  \n",
       " 5                               NaN  \n",
       " 6                               NaN  ]"
      ]
     },
     "execution_count": 2,
     "metadata": {},
     "output_type": "execute_result"
    }
   ],
   "source": [
    "import pandas as pd\n",
    "import urllib2\n",
    "opener = urllib2.build_opener()\n",
    "opener.addheaders=[('User-agent','Mozilla/5.0')]\n",
    "url = 'http://www.parkrun.org.uk/results/athleteresultshistory/?athleteNumber=2457446'\n",
    "response=opener.open(url)\n",
    "results=pd.read_html(response.read())\n",
    "#results=pd.read_html('myresults.html')\n",
    "results\n",
    "#timings=results[0]\n",
    "#timings\n"
   ]
  },
  {
   "cell_type": "code",
   "execution_count": 4,
   "metadata": {
    "collapsed": false
   },
   "outputs": [
    {
     "data": {
      "text/plain": [
       "0    Gadebridge parkrun\n",
       "1     St Albans parkrun\n",
       "2    Gadebridge parkrun\n",
       "3    Gadebridge parkrun\n",
       "4    Gadebridge parkrun\n",
       "5    Gadebridge parkrun\n",
       "6    Gadebridge parkrun\n",
       "7    Gadebridge parkrun\n",
       "8    Gadebridge parkrun\n",
       "9    Gadebridge parkrun\n",
       "Name: Event, dtype: object"
      ]
     },
     "execution_count": 4,
     "metadata": {},
     "output_type": "execute_result"
    }
   ],
   "source": [
    "timings.Event"
   ]
  },
  {
   "cell_type": "code",
   "execution_count": 5,
   "metadata": {
    "collapsed": false
   },
   "outputs": [
    {
     "data": {
      "text/plain": [
       "Index([u'Event', u'Run Date', u'Gender Pos', u'Overall Position', u'Time',\n",
       "       u'Age Grade'],\n",
       "      dtype='object')"
      ]
     },
     "execution_count": 5,
     "metadata": {},
     "output_type": "execute_result"
    }
   ],
   "source": [
    "timings.columns"
   ]
  },
  {
   "cell_type": "code",
   "execution_count": 6,
   "metadata": {
    "collapsed": false
   },
   "outputs": [
    {
     "data": {
      "text/html": [
       "<div>\n",
       "<table border=\"1\" class=\"dataframe\">\n",
       "  <thead>\n",
       "    <tr style=\"text-align: right;\">\n",
       "      <th></th>\n",
       "      <th>Event</th>\n",
       "      <th>Run Date</th>\n",
       "      <th>Gender Pos</th>\n",
       "      <th>Overall Position</th>\n",
       "      <th>Time</th>\n",
       "      <th>Age Grade</th>\n",
       "    </tr>\n",
       "  </thead>\n",
       "  <tbody>\n",
       "    <tr>\n",
       "      <th>0</th>\n",
       "      <td>Gadebridge parkrun</td>\n",
       "      <td>29/10/2016</td>\n",
       "      <td>36</td>\n",
       "      <td>44</td>\n",
       "      <td>26:20</td>\n",
       "      <td>51.84%</td>\n",
       "    </tr>\n",
       "    <tr>\n",
       "      <th>1</th>\n",
       "      <td>St Albans parkrun</td>\n",
       "      <td>20/08/2016</td>\n",
       "      <td>110</td>\n",
       "      <td>123</td>\n",
       "      <td>24:33</td>\n",
       "      <td>55.60%</td>\n",
       "    </tr>\n",
       "    <tr>\n",
       "      <th>2</th>\n",
       "      <td>Gadebridge parkrun</td>\n",
       "      <td>06/08/2016</td>\n",
       "      <td>38</td>\n",
       "      <td>42</td>\n",
       "      <td>26:23</td>\n",
       "      <td>51.74%</td>\n",
       "    </tr>\n",
       "  </tbody>\n",
       "</table>\n",
       "</div>"
      ],
      "text/plain": [
       "                Event    Run Date  Gender Pos  Overall Position   Time  \\\n",
       "0  Gadebridge parkrun  29/10/2016          36                44  26:20   \n",
       "1   St Albans parkrun  20/08/2016         110               123  24:33   \n",
       "2  Gadebridge parkrun  06/08/2016          38                42  26:23   \n",
       "\n",
       "  Age Grade  \n",
       "0    51.84%  \n",
       "1    55.60%  \n",
       "2    51.74%  "
      ]
     },
     "execution_count": 6,
     "metadata": {},
     "output_type": "execute_result"
    }
   ],
   "source": [
    "timings.head(3)\n"
   ]
  },
  {
   "cell_type": "code",
   "execution_count": 7,
   "metadata": {
    "collapsed": false
   },
   "outputs": [
    {
     "data": {
      "text/html": [
       "<div>\n",
       "<table border=\"1\" class=\"dataframe\">\n",
       "  <thead>\n",
       "    <tr style=\"text-align: right;\">\n",
       "      <th></th>\n",
       "      <th>Gender Pos</th>\n",
       "      <th>Overall Position</th>\n",
       "    </tr>\n",
       "  </thead>\n",
       "  <tbody>\n",
       "    <tr>\n",
       "      <th>count</th>\n",
       "      <td>10.000000</td>\n",
       "      <td>10.000000</td>\n",
       "    </tr>\n",
       "    <tr>\n",
       "      <th>mean</th>\n",
       "      <td>48.900000</td>\n",
       "      <td>58.500000</td>\n",
       "    </tr>\n",
       "    <tr>\n",
       "      <th>std</th>\n",
       "      <td>22.932025</td>\n",
       "      <td>25.365112</td>\n",
       "    </tr>\n",
       "    <tr>\n",
       "      <th>min</th>\n",
       "      <td>27.000000</td>\n",
       "      <td>33.000000</td>\n",
       "    </tr>\n",
       "    <tr>\n",
       "      <th>25%</th>\n",
       "      <td>38.250000</td>\n",
       "      <td>45.000000</td>\n",
       "    </tr>\n",
       "    <tr>\n",
       "      <th>50%</th>\n",
       "      <td>43.000000</td>\n",
       "      <td>51.000000</td>\n",
       "    </tr>\n",
       "    <tr>\n",
       "      <th>75%</th>\n",
       "      <td>51.750000</td>\n",
       "      <td>64.500000</td>\n",
       "    </tr>\n",
       "    <tr>\n",
       "      <th>max</th>\n",
       "      <td>110.000000</td>\n",
       "      <td>123.000000</td>\n",
       "    </tr>\n",
       "  </tbody>\n",
       "</table>\n",
       "</div>"
      ],
      "text/plain": [
       "       Gender Pos  Overall Position\n",
       "count   10.000000         10.000000\n",
       "mean    48.900000         58.500000\n",
       "std     22.932025         25.365112\n",
       "min     27.000000         33.000000\n",
       "25%     38.250000         45.000000\n",
       "50%     43.000000         51.000000\n",
       "75%     51.750000         64.500000\n",
       "max    110.000000        123.000000"
      ]
     },
     "execution_count": 7,
     "metadata": {},
     "output_type": "execute_result"
    }
   ],
   "source": [
    "timings.describe()"
   ]
  },
  {
   "cell_type": "code",
   "execution_count": 8,
   "metadata": {
    "collapsed": false
   },
   "outputs": [
    {
     "data": {
      "text/plain": [
       "Event               object\n",
       "Run Date            object\n",
       "Gender Pos           int64\n",
       "Overall Position     int64\n",
       "Time                object\n",
       "Age Grade           object\n",
       "dtype: object"
      ]
     },
     "execution_count": 8,
     "metadata": {},
     "output_type": "execute_result"
    }
   ],
   "source": [
    "timings.dtypes\n"
   ]
  },
  {
   "cell_type": "code",
   "execution_count": 10,
   "metadata": {
    "collapsed": false
   },
   "outputs": [
    {
     "data": {
      "text/html": [
       "<div>\n",
       "<table border=\"1\" class=\"dataframe\">\n",
       "  <thead>\n",
       "    <tr style=\"text-align: right;\">\n",
       "      <th></th>\n",
       "      <th>Event</th>\n",
       "      <th>Run Date</th>\n",
       "      <th>Gender Pos</th>\n",
       "      <th>Overall Position</th>\n",
       "      <th>Time</th>\n",
       "      <th>Age Grade</th>\n",
       "    </tr>\n",
       "  </thead>\n",
       "  <tbody>\n",
       "    <tr>\n",
       "      <th>2</th>\n",
       "      <td>Gadebridge parkrun</td>\n",
       "      <td>06/08/2016</td>\n",
       "      <td>38</td>\n",
       "      <td>42</td>\n",
       "      <td>26:23</td>\n",
       "      <td>51.74%</td>\n",
       "    </tr>\n",
       "    <tr>\n",
       "      <th>3</th>\n",
       "      <td>Gadebridge parkrun</td>\n",
       "      <td>23/07/2016</td>\n",
       "      <td>27</td>\n",
       "      <td>33</td>\n",
       "      <td>27:31</td>\n",
       "      <td>49.61%</td>\n",
       "    </tr>\n",
       "    <tr>\n",
       "      <th>4</th>\n",
       "      <td>Gadebridge parkrun</td>\n",
       "      <td>02/07/2016</td>\n",
       "      <td>45</td>\n",
       "      <td>49</td>\n",
       "      <td>27:18</td>\n",
       "      <td>50.00%</td>\n",
       "    </tr>\n",
       "  </tbody>\n",
       "</table>\n",
       "</div>"
      ],
      "text/plain": [
       "                Event    Run Date  Gender Pos  Overall Position   Time  \\\n",
       "2  Gadebridge parkrun  06/08/2016          38                42  26:23   \n",
       "3  Gadebridge parkrun  23/07/2016          27                33  27:31   \n",
       "4  Gadebridge parkrun  02/07/2016          45                49  27:18   \n",
       "\n",
       "  Age Grade  \n",
       "2    51.74%  \n",
       "3    49.61%  \n",
       "4    50.00%  "
      ]
     },
     "execution_count": 10,
     "metadata": {},
     "output_type": "execute_result"
    }
   ],
   "source": [
    "timings[2:5]"
   ]
  },
  {
   "cell_type": "code",
   "execution_count": 11,
   "metadata": {
    "collapsed": false
   },
   "outputs": [
    {
     "data": {
      "text/html": [
       "<div>\n",
       "<table border=\"1\" class=\"dataframe\">\n",
       "  <thead>\n",
       "    <tr style=\"text-align: right;\">\n",
       "      <th></th>\n",
       "      <th>Event</th>\n",
       "      <th>Run Date</th>\n",
       "      <th>Gender Pos</th>\n",
       "      <th>Overall Position</th>\n",
       "      <th>Time</th>\n",
       "      <th>Age Grade</th>\n",
       "    </tr>\n",
       "  </thead>\n",
       "  <tbody>\n",
       "    <tr>\n",
       "      <th>0</th>\n",
       "      <td>Gadebridge parkrun</td>\n",
       "      <td>29/10/2016</td>\n",
       "      <td>36</td>\n",
       "      <td>44</td>\n",
       "      <td>26:20</td>\n",
       "      <td>51.84%</td>\n",
       "    </tr>\n",
       "    <tr>\n",
       "      <th>2</th>\n",
       "      <td>Gadebridge parkrun</td>\n",
       "      <td>06/08/2016</td>\n",
       "      <td>38</td>\n",
       "      <td>42</td>\n",
       "      <td>26:23</td>\n",
       "      <td>51.74%</td>\n",
       "    </tr>\n",
       "    <tr>\n",
       "      <th>3</th>\n",
       "      <td>Gadebridge parkrun</td>\n",
       "      <td>23/07/2016</td>\n",
       "      <td>27</td>\n",
       "      <td>33</td>\n",
       "      <td>27:31</td>\n",
       "      <td>49.61%</td>\n",
       "    </tr>\n",
       "    <tr>\n",
       "      <th>4</th>\n",
       "      <td>Gadebridge parkrun</td>\n",
       "      <td>02/07/2016</td>\n",
       "      <td>45</td>\n",
       "      <td>49</td>\n",
       "      <td>27:18</td>\n",
       "      <td>50.00%</td>\n",
       "    </tr>\n",
       "    <tr>\n",
       "      <th>5</th>\n",
       "      <td>Gadebridge parkrun</td>\n",
       "      <td>25/06/2016</td>\n",
       "      <td>39</td>\n",
       "      <td>48</td>\n",
       "      <td>28:55</td>\n",
       "      <td>47.20%</td>\n",
       "    </tr>\n",
       "    <tr>\n",
       "      <th>6</th>\n",
       "      <td>Gadebridge parkrun</td>\n",
       "      <td>04/06/2016</td>\n",
       "      <td>43</td>\n",
       "      <td>53</td>\n",
       "      <td>28:53</td>\n",
       "      <td>46.91%</td>\n",
       "    </tr>\n",
       "    <tr>\n",
       "      <th>7</th>\n",
       "      <td>Gadebridge parkrun</td>\n",
       "      <td>28/05/2016</td>\n",
       "      <td>54</td>\n",
       "      <td>68</td>\n",
       "      <td>28:53</td>\n",
       "      <td>46.91%</td>\n",
       "    </tr>\n",
       "    <tr>\n",
       "      <th>8</th>\n",
       "      <td>Gadebridge parkrun</td>\n",
       "      <td>21/05/2016</td>\n",
       "      <td>43</td>\n",
       "      <td>54</td>\n",
       "      <td>29:13</td>\n",
       "      <td>46.38%</td>\n",
       "    </tr>\n",
       "    <tr>\n",
       "      <th>9</th>\n",
       "      <td>Gadebridge parkrun</td>\n",
       "      <td>14/05/2016</td>\n",
       "      <td>54</td>\n",
       "      <td>71</td>\n",
       "      <td>30:03</td>\n",
       "      <td>45.09%</td>\n",
       "    </tr>\n",
       "  </tbody>\n",
       "</table>\n",
       "</div>"
      ],
      "text/plain": [
       "                Event    Run Date  Gender Pos  Overall Position   Time  \\\n",
       "0  Gadebridge parkrun  29/10/2016          36                44  26:20   \n",
       "2  Gadebridge parkrun  06/08/2016          38                42  26:23   \n",
       "3  Gadebridge parkrun  23/07/2016          27                33  27:31   \n",
       "4  Gadebridge parkrun  02/07/2016          45                49  27:18   \n",
       "5  Gadebridge parkrun  25/06/2016          39                48  28:55   \n",
       "6  Gadebridge parkrun  04/06/2016          43                53  28:53   \n",
       "7  Gadebridge parkrun  28/05/2016          54                68  28:53   \n",
       "8  Gadebridge parkrun  21/05/2016          43                54  29:13   \n",
       "9  Gadebridge parkrun  14/05/2016          54                71  30:03   \n",
       "\n",
       "  Age Grade  \n",
       "0    51.84%  \n",
       "2    51.74%  \n",
       "3    49.61%  \n",
       "4    50.00%  \n",
       "5    47.20%  \n",
       "6    46.91%  \n",
       "7    46.91%  \n",
       "8    46.38%  \n",
       "9    45.09%  "
      ]
     },
     "execution_count": 11,
     "metadata": {},
     "output_type": "execute_result"
    }
   ],
   "source": [
    "timings[timings.Event=='Gadebridge parkrun']"
   ]
  }
 ],
 "metadata": {
  "anaconda-cloud": {},
  "kernelspec": {
   "display_name": "Python [default]",
   "language": "python",
   "name": "python2"
  },
  "language_info": {
   "codemirror_mode": {
    "name": "ipython",
    "version": 2
   },
   "file_extension": ".py",
   "mimetype": "text/x-python",
   "name": "python",
   "nbconvert_exporter": "python",
   "pygments_lexer": "ipython2",
   "version": "2.7.12"
  }
 },
 "nbformat": 4,
 "nbformat_minor": 1
}
