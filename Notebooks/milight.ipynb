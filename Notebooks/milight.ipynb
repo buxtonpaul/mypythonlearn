{
 "cells": [
  {
   "cell_type": "code",
   "execution_count": 28,
   "metadata": {
    "collapsed": false
   },
   "outputs": [
    {
     "name": "stdout",
     "output_type": "stream",
     "text": [
      "MAC= 0xf0:0xfe:0x6b:0x14:0xba:0x9e\n",
      "SessionID 0x109 0x0\n",
      "Checksum = 0x2f\n",
      "sending message on\n",
      "[0x80, 0x0, 0x0, 0x0, 0x11, 0x6d, 0x0, 0x0, 0x0, 0x0, 0x31, 0x0, 0x0, 0x8, 0x4, 0x1, 0x0, 0x0, 0x0, 0x0, 0x0, 0x2f]\n"
     ]
    },
    {
     "name": "stderr",
     "output_type": "stream",
     "text": [
      "sending \"array('B', [32, 0, 0, 0, 22, 2, 98, 58, 213, 237, 163, 1, 174, 8, 45, 70, 97, 65, 167, 246, 220, 175, 211, 230, 0, 0, 30])\"\n",
      "waiting to receive\n",
      "received \"0x28, 0x0, 0x0, 0x0, 0x11, 0x0, 0x2, 0xf0, 0xfe, 0x6b, 0x14, 0xba, 0x9e, 0x42, 0x14, 0x22, 0xf0, 0x0, 0x1, 0x6d, 0x0, 0x0\"\n",
      "received \"0x88, 0x0, 0x0, 0x0, 0x3, 0x0, 0x0, 0x0\"\n"
     ]
    }
   ],
   "source": [
    "import socket\n",
    "import sys\n",
    "import struct\n",
    "import array\n",
    "import binascii\n",
    "\n",
    "# Create a UDP socket\n",
    "\n",
    "\n",
    "\n",
    "def getMilightSession(server_address):\n",
    "    sock = socket.socket(socket.AF_INET, socket.SOCK_DGRAM)\n",
    "    \n",
    "    message = array.array('B', [0x20 ,0x00 ,0x00 ,0x00 ,0x16 ,0x02 ,0x62 ,0x3A ,0xD5, 0xED, 0xA3, \n",
    "               0x01, 0xAE, 0x08, 0x2D, 0x46, 0x61, 0x41, 0xA7, 0xF6, 0xDC, 0xAF, 0xD3, 0xE6, 0x00, 0x00, 0x1E])\n",
    "\n",
    "\n",
    "\n",
    "    # Send data\n",
    "    print >>sys.stderr, 'sending \"%s\"' % message\n",
    "    sent = sock.sendto(message, server_address)\n",
    "\n",
    "    # Receive response\n",
    "    print >>sys.stderr, 'waiting to receive'\n",
    "    data, server = sock.recvfrom(5987)\n",
    "    MAC = binascii.hexlify(data[7:13])\n",
    " \n",
    "    vals=struct.unpack('B' * len(data), data)\n",
    "    print >>sys.stderr, 'received \"%s\"' % '{}'.format(', '.join(hex(x) for x in vals))\n",
    "\n",
    "    MAC='{}'.format (':'.join(hex(x) for x in vals[7:13]))\n",
    "    # sessionID1 = int(data[20])\n",
    "    sessionID1=vals[19]\n",
    "    sessionID2 = vals[20]\n",
    "\n",
    "    return (sock,sessionID1,sessionID2,MAC)\n",
    "\n",
    "\n",
    "commands={'on':[0x31,0x00,0x00,0x08,0x04,0x01,0x00,0x00,0x00],\n",
    "          'off':[0x31,0x00,0x00,0x08,0x04,0x02,0x00,0x00,0x00],\n",
    "          'nighton':[0x31,0x00,0x00,0x08,0x04,0x05,0x00,0x00,0x00],\n",
    "          'whighton':[0x31,0x00,0x00,0x08,0x05,0x64,0x00,0x00,0x00],\n",
    "\n",
    "          }\n",
    "\n",
    "def getCommandPacketRGBW(sess1,sess2,command,zone,value=100,seq=0):\n",
    "    # lets produce a packet based on these\n",
    "    header=[0x80,0,0,0,0x11,sess1,sess2,0x00,seq,0]\n",
    "    output = header+commands[command]\n",
    "    output.append(zone)\n",
    "    checksum = sum(output[:-9]) & 0xff\n",
    "    print 'Checksum = 0x%x' % checksum\n",
    "    output.append(0)\n",
    "    output.append(checksum)\n",
    "    return  (output)\n",
    "\n",
    "server_address = ('192.168.0.34', 5987)\n",
    "\n",
    "mysock,WB1,WB2,MAC=getMilightSession(server_address)\n",
    "\n",
    "print \"MAC=\", MAC\n",
    "print \"SessionID 0x%x 0x%x\" % (WB1,WB2)\n",
    "\n",
    "message=getCommandPacketRGBW(WB1,WB2,'on',0,0)\n",
    "\n",
    "print \"sending message on\"\n",
    "print '[{}]'.format(', '.join(hex(x) for x in message))\n",
    "\n",
    "sent = mysock.sendto(array.array('B',message), server_address)\n",
    "\n",
    "response, server = mysock.recvfrom(5987)\n",
    "vals=struct.unpack('B' * len(response), response)\n",
    "\n",
    "formatted='{}'.format(', '.join(hex(x) for x in vals))\n",
    "print >>sys.stderr, 'received \"%s\"' % formatted\n",
    "\n",
    "mysock.close()"
   ]
  }
 ],
 "metadata": {
  "anaconda-cloud": {},
  "kernelspec": {
   "display_name": "Python [default]",
   "language": "python",
   "name": "python2"
  },
  "language_info": {
   "codemirror_mode": {
    "name": "ipython",
    "version": 2
   },
   "file_extension": ".py",
   "mimetype": "text/x-python",
   "name": "python",
   "nbconvert_exporter": "python",
   "pygments_lexer": "ipython2",
   "version": "2.7.12"
  }
 },
 "nbformat": 4,
 "nbformat_minor": 1
}
