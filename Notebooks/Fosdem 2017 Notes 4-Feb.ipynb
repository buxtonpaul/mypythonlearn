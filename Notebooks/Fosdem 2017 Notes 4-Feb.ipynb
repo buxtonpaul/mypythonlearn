{
 "cells": [
  {
   "cell_type": "markdown",
   "metadata": {},
   "source": [
    "Python datacubes\n",
    "Interfaces for allowing sql queries on structured array data. Examples include images as database objects.\n",
    "Use rasdaman as the database sysetm.\n",
    "ACcesible using OWSLib, which allows constructing the sql queries using pythonic sytnax and then submit the query to get the data back.\n",
    "\n"
   ]
  },
  {
   "cell_type": "markdown",
   "metadata": {},
   "source": [
    "Python duck typing and linear algebra....\n",
    "Libshutz Linear Algebra, \n",
    "\n",
    "Testing the behaviour of python types to see if consistant with linear algebra.\n",
    "Used overloading to make dictionaries behave consinstantly with linear algebra.\n",
    "\n",
    "Allows ways of measuring distance between 'points' which may be dicts (or other possibilities).\n",
    "Crazy French Guy :-)\n",
    "\n"
   ]
  },
  {
   "cell_type": "markdown",
   "metadata": {},
   "source": [
    "Its time for datetime.\n",
    "...\n",
    "\n",
    "Tip,\n",
    "Always set timezone as it is not implicitly provided when you get time out of datetime.now()\n"
   ]
  },
  {
   "cell_type": "markdown",
   "metadata": {},
   "source": [
    "Programming reconfigurable devices via FPGA regions and Device tree overlays\n",
    "\n",
    "----\n",
    "Linux Kernel FPGA framework\n",
    "\n",
    "FPGARegion with an FPGA bridge and FPGA Manager.\n",
    "FPGA Manager handled FPGA image loading."
   ]
  },
  {
   "cell_type": "markdown",
   "metadata": {},
   "source": [
    "Using GDB to debug python programs.\n",
    "\n",
    "use gcore to do coredump, inspect the core dump using gdb and python gdb tools \n",
    "\n",
    "Also recommendes strace for python programs..\n",
    "\n",
    "DOES need debug info for the cpython library. As you can expect requires exact version match!\n",
    "\n",
    "Is it just symbols or is it compiled with compiler optimisations turned off?\n",
    "* Initially will be with compiler optimisations, can be rebuilt with optimisations turrned off\n",
    "\n",
    "\n",
    "\n",
    "\n",
    "\n",
    "\n"
   ]
  },
  {
   "cell_type": "markdown",
   "metadata": {},
   "source": [
    "Python RaspPi\n",
    "\n",
    "Working on library gpiozero (note referring to the pi zero).\n",
    "Pizero includes an energenie class..... (looks to be just control, not monitoring).\n"
   ]
  }
 ],
 "metadata": {
  "kernelspec": {
   "display_name": "Python [default]",
   "language": "python",
   "name": "python2"
  },
  "language_info": {
   "codemirror_mode": {
    "name": "ipython",
    "version": 2
   },
   "file_extension": ".py",
   "mimetype": "text/x-python",
   "name": "python",
   "nbconvert_exporter": "python",
   "pygments_lexer": "ipython2",
   "version": "2.7.12"
  }
 },
 "nbformat": 4,
 "nbformat_minor": 1
}
