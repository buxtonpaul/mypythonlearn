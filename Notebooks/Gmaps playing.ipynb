{
 "cells": [
  {
   "cell_type": "markdown",
   "metadata": {},
   "source": [
    "Quick sample of playing with the Gmaps extension for Jupyter notebooks.\n",
    "More information available here http://jupyter-gmaps.readthedocs.io/en/latest/gmaps.html\n",
    "\n",
    "Install gmaps\n",
    "\n",
    "pip install gmaps\n",
    "\n",
    "Enable the widgestsnbextension\n",
    "\n",
    "jupyter nbextension enable --py --sys-prefix widgetsnbextension\n"
   ]
  },
  {
   "cell_type": "code",
   "execution_count": null,
   "metadata": {
    "collapsed": false
   },
   "outputs": [],
   "source": [
    "import gmaps\n",
    "import gmaps.datasets\n",
    "\n",
    "from mysecrets import gmaps_apikey as api_key\n",
    "\n",
    "gmaps.configure(api_key)\n",
    "locations = gmaps.datasets.load_dataset(\"starbucks_uk\")\n",
    "\n",
    "m=gmaps.Map()\n",
    "starbucks_layer = gmaps.symbol_layer(locations, fill_color=\"green\", stroke_color=\"green\", scale=2)\n",
    "m.add_layer(starbucks_layer)\n",
    "m\n",
    "\n"
   ]
  },
  {
   "cell_type": "code",
   "execution_count": null,
   "metadata": {
    "collapsed": true
   },
   "outputs": [],
   "source": []
  }
 ],
 "metadata": {
  "anaconda-cloud": {},
  "kernelspec": {
   "display_name": "Python 2",
   "language": "python",
   "name": "python2"
  },
  "language_info": {
   "codemirror_mode": {
    "name": "ipython",
    "version": 2
   },
   "file_extension": ".py",
   "mimetype": "text/x-python",
   "name": "python",
   "nbconvert_exporter": "python",
   "pygments_lexer": "ipython2",
   "version": "2.7.11"
  },
  "widgets": {
   "state": {
    "8f7b0e91cbba437f981420afba3c9522": {
     "views": [
      {
       "cell_index": 1
      }
     ]
    }
   },
   "version": "1.2.0"
  }
 },
 "nbformat": 4,
 "nbformat_minor": 0
}
