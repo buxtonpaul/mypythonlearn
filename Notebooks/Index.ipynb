{
 "cells": [
  {
   "cell_type": "markdown",
   "metadata": {},
   "source": [
    "My Notes\n",
    "========================\n",
    "\n",
    "My Notebooks\n",
    "------------\n",
    "\n",
    "* [Documentation Examples](Documentation Example.ipynb)\n",
    "* [GPS Tracks](GPS Track.ipynb)\n",
    "* [Gaming / dice rolling](gaming.ipynb)\n",
    "* [Colour Science](colourscience.ipynb)\n",
    "* [Pandas for Parkrun Analysis](Parkrun Pandas.ipynb)\n",
    "\n",
    "\n",
    "\n",
    "\n",
    "Useful looking links\n",
    "--------------------\n",
    "\n",
    "* https://github.com/ipython/ipython/wiki/A-gallery-of-interesting-IPython-Notebooks\n",
    "* https://github.com/rossant/ipython-minibook\n",
    "* https://github.com/rajathkumarmp/Python-Lectures\n",
    "* http://nbviewer.jupyter.org/github/jrjohansson/scientific-python-lectures/blob/master/Lecture-4-Matplotlib.ipynb\n",
    "* https://github.com/ipython/ipython/wiki/Cookbook:-Notebook-utilities\n",
    "* https://github.com/tkrajina/gpxpy\n",
    "* http://jupyter-gmaps.readthedocs.io/en/latest/gmaps.html\n",
    "\n",
    "\n"
   ]
  }
 ],
 "metadata": {
  "anaconda-cloud": {},
  "kernelspec": {
   "display_name": "Python [default]",
   "language": "python",
   "name": "python2"
  },
  "language_info": {
   "codemirror_mode": {
    "name": "ipython",
    "version": 2
   },
   "file_extension": ".py",
   "mimetype": "text/x-python",
   "name": "python",
   "nbconvert_exporter": "python",
   "pygments_lexer": "ipython2",
   "version": "2.7.12"
  }
 },
 "nbformat": 4,
 "nbformat_minor": 0
}
